{
 "cells": [
  {
   "cell_type": "markdown",
   "metadata": {},
   "source": [
    "# 数据可视化"
   ]
  },
  {
   "cell_type": "markdown",
   "metadata": {},
   "source": [
    "## 导入数据"
   ]
  },
  {
   "cell_type": "code",
   "execution_count": 148,
   "metadata": {},
   "outputs": [],
   "source": [
    "import pandas as pd\n",
    "import seaborn as sns\n",
    "from matplotlib.font_manager import FontProperties\n",
    "zhfont = FontProperties(fname='/notebooks/xkcd/Muyao-Softbrush.ttf', size=16)"
   ]
  },
  {
   "cell_type": "code",
   "execution_count": 142,
   "metadata": {},
   "outputs": [
    {
     "name": "stdout",
     "output_type": "stream",
     "text": [
      "<class 'pandas.core.frame.DataFrame'>\n",
      "Int64Index: 280059 entries, 0 to 280062\n",
      "Data columns (total 10 columns):\n",
      "day         280059 non-null object\n",
      "time        280059 non-null object\n",
      "domain      280059 non-null object\n",
      "ip          280059 non-null object\n",
      "port        280059 non-null object\n",
      "city_id     280059 non-null float64\n",
      "country     280059 non-null object\n",
      "province    280059 non-null object\n",
      "city        280059 non-null object\n",
      "operator    280059 non-null object\n",
      "dtypes: float64(1), object(9)\n",
      "memory usage: 23.5+ MB\n"
     ]
    },
    {
     "data": {
      "text/plain": [
       "pandas.core.frame.DataFrame"
      ]
     },
     "execution_count": 142,
     "metadata": {},
     "output_type": "execute_result"
    }
   ],
   "source": [
    "df = pd.read_csv('./data/logs.csv')\n",
    "df = df.dropna(axis = 0, how ='any') \n",
    "df.info()\n",
    "type(df)"
   ]
  },
  {
   "cell_type": "markdown",
   "metadata": {},
   "source": [
    "## 生成数据"
   ]
  },
  {
   "cell_type": "code",
   "execution_count": 141,
   "metadata": {},
   "outputs": [],
   "source": [
    "out_dir = './data'"
   ]
  },
  {
   "cell_type": "markdown",
   "metadata": {},
   "source": [
    "### 1. 国际分布"
   ]
  },
  {
   "cell_type": "code",
   "execution_count": 186,
   "metadata": {},
   "outputs": [
    {
     "data": {
      "text/plain": [
       "country\n",
       "中国     188080\n",
       "美国      86471\n",
       "0        4041\n",
       "爱尔兰       366\n",
       "瑞典        262\n",
       "智利        253\n",
       "比利时       243\n",
       "新加坡       101\n",
       "加拿大        72\n",
       "德国         68\n",
       "印度         54\n",
       "日本         44\n",
       "新西兰         2\n",
       "波兰          2\n",
       "Name: domain, dtype: int64"
      ]
     },
     "execution_count": 186,
     "metadata": {},
     "output_type": "execute_result"
    }
   ],
   "source": [
    "df_global = df.groupby(['country']).count().sort_values(['domain'], ascending=False)['domain']\n",
    "df_global"
   ]
  },
  {
   "cell_type": "markdown",
   "metadata": {},
   "source": [
    "### 2. 国内分布\n",
    "中国各省分布情况"
   ]
  },
  {
   "cell_type": "code",
   "execution_count": 181,
   "metadata": {},
   "outputs": [],
   "source": [
    "china_province = ['北京', '天津', '上海', '重庆', '河南省', '安徽省', '福建省', '甘肃省', '贵州省', '海南省', '河北省', '黑龙江省', '湖北省', '湖南省', '吉林省', '江苏省','江西省', '辽宁省', '青海省', '山东省', '山西省', '陕西省', '四川省', '云南省', '浙江省', '台湾省', '台湾', '广东省', '广西壮族自治区', '内蒙古自治区', '宁夏回族自治区', '西藏藏族自治区', '新疆维吾尔自治区', '香港', '澳门']"
   ]
  },
  {
   "cell_type": "code",
   "execution_count": 185,
   "metadata": {},
   "outputs": [
    {
     "data": {
      "text/plain": [
       "province\n",
       "广东省     54558\n",
       "台湾省     49564\n",
       "上海      37677\n",
       "北京      14690\n",
       "浙江省      9062\n",
       "江苏省      4226\n",
       "河北省      4216\n",
       "天津       4017\n",
       "福建省      2358\n",
       "香港       1667\n",
       "山东省      1427\n",
       "江西省      1119\n",
       "湖南省       863\n",
       "河南省       847\n",
       "湖北省       377\n",
       "黑龙江省      341\n",
       "海南省       226\n",
       "四川省       101\n",
       "山西省        38\n",
       "安徽省        36\n",
       "辽宁省        34\n",
       "陕西省        32\n",
       "贵州省        28\n",
       "吉林省        27\n",
       "重庆          1\n",
       "Name: domain, dtype: int64"
      ]
     },
     "execution_count": 185,
     "metadata": {},
     "output_type": "execute_result"
    }
   ],
   "source": [
    "df_cn = df[df['province'].isin(china_province)]\n",
    "df_cn.groupby(['province']).count().sort_values(['domain'], ascending=False)['domain']"
   ]
  },
  {
   "cell_type": "markdown",
   "metadata": {},
   "source": [
    "### 3. 域名排行"
   ]
  },
  {
   "cell_type": "code",
   "execution_count": 188,
   "metadata": {},
   "outputs": [
    {
     "data": {
      "text/plain": [
       "0                                 101.227.160.23\n",
       "1                                 208.67.222.222\n",
       "2                                 lbs.map.qq.com\n",
       "3                            play.googleapis.com\n",
       "4                                117.185.117.170\n",
       "5                                 208.67.222.222\n",
       "6                                 208.67.222.222\n",
       "7                                117.185.117.170\n",
       "8                               fclick.baidu.com\n",
       "9                                 208.67.222.222\n",
       "10                                 www.baidu.com\n",
       "11                                s.bdstatic.com\n",
       "12                                 ss0.baidu.com\n",
       "13                                 www.baidu.com\n",
       "14                                   m.baidu.com\n",
       "15                              ss0.bdstatic.com\n",
       "16                                 sp1.baidu.com\n",
       "17                               sv.bdstatic.com\n",
       "18                                 ss1.baidu.com\n",
       "19                                 ss2.baidu.com\n",
       "20                                198.11.138.254\n",
       "21                                140.205.122.66\n",
       "22                                208.67.222.222\n",
       "23                                208.67.222.222\n",
       "24                                208.67.222.222\n",
       "25                                 ada.baidu.com\n",
       "26                cambrian-images.cdn.bcebos.com\n",
       "27                                208.67.222.222\n",
       "28                cambrian-images.cdn.bcebos.com\n",
       "29                cambrian-images.cdn.bcebos.com\n",
       "                           ...                  \n",
       "280033                           101.226.211.106\n",
       "280034                    extshort.weixin.qq.com\n",
       "280035                            183.240.118.23\n",
       "280036                            208.67.222.222\n",
       "280037                             vdn1.vzuu.com\n",
       "280038                            lens.zhihu.com\n",
       "280039                            208.67.222.222\n",
       "280040                     kv.stat.nearme.com.cn\n",
       "280041                         data.bilibili.com\n",
       "280042                           117.185.117.170\n",
       "280043                            208.67.222.222\n",
       "280044                            101.227.160.23\n",
       "280045                            208.67.222.222\n",
       "280046                             vdn1.vzuu.com\n",
       "280047                  szextshort.weixin.qq.com\n",
       "280048                            208.67.222.222\n",
       "280049    mobilenetworkscoring-pa.googleapis.com\n",
       "280050                    extshort.weixin.qq.com\n",
       "280051                            208.67.222.222\n",
       "280052             zhihu-web-analytics.zhihu.com\n",
       "280053             zhihu-web-analytics.zhihu.com\n",
       "280054                            208.67.222.222\n",
       "280055                   configsvr.msf.3g.qq.com\n",
       "280056                            208.67.222.222\n",
       "280057                            208.67.222.222\n",
       "280058                       play.googleapis.com\n",
       "280059                           sugar.zhihu.com\n",
       "280060                            208.67.222.222\n",
       "280061                  szextshort.weixin.qq.com\n",
       "280062                       play.googleapis.com\n",
       "Name: domain, Length: 280059, dtype: object"
      ]
     },
     "execution_count": 188,
     "metadata": {},
     "output_type": "execute_result"
    }
   ],
   "source": [
    "df['domain'].apply(lambda x: 'a' in x)"
   ]
  },
  {
   "cell_type": "code",
   "execution_count": 4,
   "metadata": {},
   "outputs": [
    {
     "data": {
      "text/plain": [
       "<matplotlib.axes._subplots.AxesSubplot at 0x10f0a2748>"
      ]
     },
     "execution_count": 4,
     "metadata": {},
     "output_type": "execute_result"
    },
    {
     "data": {
      "image/png": "[encoded data removed]",
      "text/plain": [
       "<Figure size 432x288 with 1 Axes>"
      ]
     },
     "metadata": {
      "needs_background": "light"
     },
     "output_type": "display_data"
    }
   ],
   "source": [
    "## 柱状图，每日请求数量\n",
    "df.groupby(['day']).count()['domain'].plot(kind='bar', color='b', title='daily request sum', rot=-20)"
   ]
  },
  {
   "cell_type": "code",
   "execution_count": 16,
   "metadata": {},
   "outputs": [],
   "source": [
    "## 折线图，每个小时的请求数量"
   ]
  },
  {
   "cell_type": "code",
   "execution_count": 19,
   "metadata": {},
   "outputs": [],
   "source": [
    "## 域名指向的服务器地点，地图，国内各省份和全球各国家分布"
   ]
  },
  {
   "cell_type": "code",
   "execution_count": 5,
   "metadata": {},
   "outputs": [
    {
     "data": {
      "text/plain": [
       "<matplotlib.axes._subplots.AxesSubplot at 0x121c78978>"
      ]
     },
     "execution_count": 5,
     "metadata": {},
     "output_type": "execute_result"
    },
    {
     "data": {
      "image/png": "[encoded data removed]",
      "text/plain": [
       "<Figure size 1728x576 with 1 Axes>"
      ]
     },
     "metadata": {
      "needs_background": "light"
     },
     "output_type": "display_data"
    }
   ],
   "source": [
    "## 柱状图，所有域名排行与比例\n",
    "df.groupby(['domain']).count().sort_values(['time'], ascending=False).head(10).plot(kind='bar', color='b',figsize=(24, 8), rot=-30)"
   ]
  },
  {
   "cell_type": "code",
   "execution_count": null,
   "metadata": {},
   "outputs": [],
   "source": [
    "## 谷歌活动"
   ]
  },
  {
   "cell_type": "code",
   "execution_count": null,
   "metadata": {},
   "outputs": [],
   "source": [
    "## 微信活动"
   ]
  },
  {
   "cell_type": "code",
   "execution_count": 6,
   "metadata": {},
   "outputs": [],
   "source": [
    "## 一加是 oppo 的亲儿子"
   ]
  },
  {
   "cell_type": "code",
   "execution_count": 6,
   "metadata": {},
   "outputs": [
    {
     "data": {
      "text/plain": [
       "array([<matplotlib.axes._subplots.AxesSubplot object at 0x121e249b0>],\n",
       "      dtype=object)"
      ]
     },
     "execution_count": 6,
     "metadata": {},
     "output_type": "execute_result"
    },
    {
     "data": {
      "image/png": "[encoded data removed]",
      "text/plain": [
       "<Figure size 576x576 with 1 Axes>"
      ]
     },
     "metadata": {},
     "output_type": "display_data"
    }
   ],
   "source": [
    "## 使用端口排名，饼图\n",
    "df.groupby(['port']).count().sort_values(['time'], ascending=False).head(10)['time'].plot.pie(subplots=True, figsize=(8, 8))"
   ]
  },
  {
   "cell_type": "code",
   "execution_count": null,
   "metadata": {},
   "outputs": [],
   "source": [
    "## 微信活动"
   ]
  },
  {
   "cell_type": "code",
   "execution_count": null,
   "metadata": {},
   "outputs": [],
   "source": [
    "## 微信 vs 淘宝"
   ]
  },
  {
   "cell_type": "code",
   "execution_count": null,
   "metadata": {},
   "outputs": [],
   "source": [
    "import pandas as pd\n",
    "from matplotlib import pyplot as plt\n",
    "import numpy as np\n",
    "\n",
    "countries = [\n",
    "        'Albania',\n",
    "        'Brazil',\n",
    "        'Denmark',\n",
    "        'France',\n",
    "        'Mexico',\n",
    "        'Nigeria',\n",
    "        'Spain',\n",
    "        'Germany',\n",
    "        'Finland',\n",
    "    ]\n",
    "\n",
    "#the full dataframe\n",
    "df = pd.DataFrame(\n",
    "    data = {'country': countries, 'value' :np.random.rand(len(countries))},\n",
    "    ).sort_values('value', ascending = False)\n",
    "\n",
    "#the top 5\n",
    "df2 = df[:5].copy()\n",
    "\n",
    "#others\n",
    "new_row = pd.DataFrame(data = {\n",
    "    'country' : ['others'],\n",
    "    'value' : [df['value'][5:].sum()]\n",
    "})\n",
    "\n",
    "#combining top 5 with others\n",
    "df2 = pd.concat([df2, new_row])\n",
    "\n",
    "#plotting -- for comparison left all countries and right \n",
    "#the others combined\n",
    "fig, axes = plt.subplots(nrows = 1, ncols = 2, figsize = (18,9))\n",
    "df.plot(kind = 'pie', y = 'value', labels = df['country'], ax = axes[0])\n",
    "df2.plot(kind = 'pie', y = 'value', labels = df2['country'], ax = axes[1])\n",
    "axes[0].set_title('all countries')\n",
    "axes[1].set_title('top 5')\n",
    "plt.show()"
   ]
  }
 ],
 "metadata": {
  "kernelspec": {
   "display_name": "Python 3",
   "language": "python",
   "name": "python3"
  },
  "language_info": {
   "codemirror_mode": {
    "name": "ipython",
    "version": 3
   },
   "file_extension": ".py",
   "mimetype": "text/x-python",
   "name": "python",
   "nbconvert_exporter": "python",
   "pygments_lexer": "ipython3",
   "version": "3.6.5"
  }
 },
 "nbformat": 4,
 "nbformat_minor": 2
}
